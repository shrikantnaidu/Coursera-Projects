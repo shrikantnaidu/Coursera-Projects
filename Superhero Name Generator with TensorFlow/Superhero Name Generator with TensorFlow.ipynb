{
  "cells": [
    {
      "cell_type": "markdown",
      "metadata": {
        "id": "21XXWP7Fpt2L"
      },
      "source": [
        "# Superhero (and Supervillain) Name Generator\n",
        "\n",
        "---\n",
        "\n",
        "[Superhero Names Dataset](https://github.com/am1tyadav/superhero)"
      ]
    },
    {
      "cell_type": "markdown",
      "metadata": {
        "id": "H6P0NU5Cpt2R"
      },
      "source": [
        "## Task 2\n",
        "\n",
        "1. Import the data\n",
        "2. Create a tokenizer\n",
        "3. Char to index and Index to char dictionaries"
      ]
    },
    {
      "cell_type": "code",
      "execution_count": 1,
      "metadata": {
        "colab": {
          "base_uri": "https://localhost:8080/"
        },
        "id": "srULhalZpt2M",
        "outputId": "75c18245-02ab-4e89-98b9-626d95fb1922"
      },
      "outputs": [
        {
          "output_type": "stream",
          "name": "stdout",
          "text": [
            "Cloning into 'superhero'...\n",
            "remote: Enumerating objects: 8, done.\u001b[K\n",
            "remote: Counting objects: 100% (8/8), done.\u001b[K\n",
            "remote: Compressing objects: 100% (7/7), done.\u001b[K\n",
            "remote: Total 8 (delta 0), reused 4 (delta 0), pack-reused 0\u001b[K\n",
            "Unpacking objects: 100% (8/8), done.\n"
          ]
        }
      ],
      "source": [
        "!git clone https://github.com/am1tyadav/superhero"
      ]
    },
    {
      "cell_type": "code",
      "execution_count": 2,
      "metadata": {
        "colab": {
          "base_uri": "https://localhost:8080/",
          "height": 35
        },
        "id": "uq4CLmsLpt2P",
        "outputId": "a45c5fca-311c-4709-96c3-2300eff3d330"
      },
      "outputs": [
        {
          "output_type": "execute_result",
          "data": {
            "application/vnd.google.colaboratory.intrinsic+json": {
              "type": "string"
            },
            "text/plain": [
              "'jumpa\\t\\ndoctor fate\\t\\nstarlight\\t\\nisildur\\t\\nlasher\\t\\nvarvara\\t\\nthe target\\t\\naxel\\t\\nbattra\\t\\nchangeling\\t\\npyrrh'"
            ]
          },
          "metadata": {},
          "execution_count": 2
        }
      ],
      "source": [
        "with open('superhero/superheroes.txt', 'r') as f:\n",
        "  data = f.read()\n",
        "\n",
        "data[:100]"
      ]
    },
    {
      "cell_type": "code",
      "execution_count": 3,
      "metadata": {
        "colab": {
          "base_uri": "https://localhost:8080/"
        },
        "id": "JqhtLuAHpt2R",
        "outputId": "db61aedb-b135-408c-9ab6-a2dfb3942b7d"
      },
      "outputs": [
        {
          "output_type": "stream",
          "name": "stdout",
          "text": [
            "2.7.0\n"
          ]
        }
      ],
      "source": [
        "import tensorflow as tf \n",
        "print(tf.__version__)"
      ]
    },
    {
      "cell_type": "code",
      "execution_count": 4,
      "metadata": {
        "id": "95Lo1Yqzpt2T"
      },
      "outputs": [],
      "source": [
        "tokenizer = tf.keras.preprocessing.text.Tokenizer(\n",
        "    filters='!\"#$%&()*+,-./:;<=>?@[\\\\]^_`{|}~',\n",
        "    split='\\n',\n",
        ")"
      ]
    },
    {
      "cell_type": "code",
      "execution_count": 5,
      "metadata": {
        "id": "qYfC4sj2pt2V"
      },
      "outputs": [],
      "source": [
        "tokenizer.fit_on_texts(data)"
      ]
    },
    {
      "cell_type": "code",
      "execution_count": 6,
      "metadata": {
        "colab": {
          "base_uri": "https://localhost:8080/"
        },
        "id": "EO4-dPM6pt2X",
        "outputId": "8aaafb10-1999-4188-a2ea-5e3de0dd50a2"
      },
      "outputs": [
        {
          "output_type": "stream",
          "name": "stdout",
          "text": [
            "{1: '\\t', 2: 'a', 3: 'e', 4: 'r', 5: 'o', 6: 'n', 7: 'i', 8: ' ', 9: 't', 10: 's', 11: 'l', 12: 'm', 13: 'h', 14: 'd', 15: 'c', 16: 'u', 17: 'g', 18: 'k', 19: 'b', 20: 'p', 21: 'y', 22: 'w', 23: 'f', 24: 'v', 25: 'j', 26: 'z', 27: 'x', 28: 'q'}\n"
          ]
        }
      ],
      "source": [
        "char_to_index = tokenizer.word_index\n",
        "index_to_char = dict((v, k) for k, v in char_to_index.items())\n",
        "\n",
        "print(index_to_char)"
      ]
    },
    {
      "cell_type": "markdown",
      "metadata": {
        "id": "SMwtIw_Bpt2Z"
      },
      "source": [
        "## Task 3\n",
        "\n",
        "1. Converting between names and sequences"
      ]
    },
    {
      "cell_type": "code",
      "execution_count": 7,
      "metadata": {
        "colab": {
          "base_uri": "https://localhost:8080/"
        },
        "id": "N7iQLIXzpt2a",
        "outputId": "e65104e3-6017-49a1-c67a-4f84a55584c0"
      },
      "outputs": [
        {
          "output_type": "execute_result",
          "data": {
            "text/plain": [
              "['jumpa\\t',\n",
              " 'doctor fate\\t',\n",
              " 'starlight\\t',\n",
              " 'isildur\\t',\n",
              " 'lasher\\t',\n",
              " 'varvara\\t',\n",
              " 'the target\\t',\n",
              " 'axel\\t',\n",
              " 'battra\\t',\n",
              " 'changeling\\t']"
            ]
          },
          "metadata": {},
          "execution_count": 7
        }
      ],
      "source": [
        "names = data.splitlines()\n",
        "names[:10]"
      ]
    },
    {
      "cell_type": "code",
      "execution_count": 8,
      "metadata": {
        "colab": {
          "base_uri": "https://localhost:8080/"
        },
        "id": "n_-TTfqipt2c",
        "outputId": "3a9257e0-c305-43a3-c5b4-93afc4813196"
      },
      "outputs": [
        {
          "output_type": "execute_result",
          "data": {
            "text/plain": [
              "[[25], [16], [12], [20], [2], [1]]"
            ]
          },
          "metadata": {},
          "execution_count": 8
        }
      ],
      "source": [
        "tokenizer.texts_to_sequences(names[0])"
      ]
    },
    {
      "cell_type": "code",
      "execution_count": 9,
      "metadata": {
        "id": "P6IsKH1Upt2e"
      },
      "outputs": [],
      "source": [
        "def name_to_seq(name):\n",
        "  return [tokenizer.texts_to_sequences(c)[0][0] for c in name]"
      ]
    },
    {
      "cell_type": "code",
      "execution_count": 10,
      "metadata": {
        "colab": {
          "base_uri": "https://localhost:8080/"
        },
        "id": "TuLUiMP3pt2g",
        "outputId": "6b4aa875-fa69-465b-f6bb-6452c62afefb"
      },
      "outputs": [
        {
          "output_type": "execute_result",
          "data": {
            "text/plain": [
              "[25, 16, 12, 20, 2, 1]"
            ]
          },
          "metadata": {},
          "execution_count": 10
        }
      ],
      "source": [
        "name_to_seq(names[0])"
      ]
    },
    {
      "cell_type": "code",
      "execution_count": 11,
      "metadata": {
        "id": "yFUYhimKpt2h"
      },
      "outputs": [],
      "source": [
        "def seq_to_name(seq):\n",
        "  return ''.join([index_to_char[i] for i in seq if i != 0])"
      ]
    },
    {
      "cell_type": "code",
      "execution_count": 12,
      "metadata": {
        "colab": {
          "base_uri": "https://localhost:8080/",
          "height": 35
        },
        "id": "ROhCqmhLpt2k",
        "outputId": "465439a0-cb72-4207-83c9-25ba0a33acc2"
      },
      "outputs": [
        {
          "output_type": "execute_result",
          "data": {
            "application/vnd.google.colaboratory.intrinsic+json": {
              "type": "string"
            },
            "text/plain": [
              "'jumpa\\t'"
            ]
          },
          "metadata": {},
          "execution_count": 12
        }
      ],
      "source": [
        "seq_to_name(name_to_seq(names[0]))"
      ]
    },
    {
      "cell_type": "markdown",
      "metadata": {
        "id": "uCbAzsNjpt2m"
      },
      "source": [
        "## Task 4\n",
        "\n",
        "1. Creating sequences\n",
        "2. Padding all sequences"
      ]
    },
    {
      "cell_type": "code",
      "execution_count": 13,
      "metadata": {
        "id": "zstNn-0dpt2m"
      },
      "outputs": [],
      "source": [
        "sequences= []\n",
        "\n",
        "for name in names:\n",
        "  seq = name_to_seq(name)\n",
        "  if len(seq) >= 2:\n",
        "    sequences += [seq[:i] for i in range(2, len(seq) + 1)]"
      ]
    },
    {
      "cell_type": "code",
      "execution_count": 14,
      "metadata": {
        "colab": {
          "base_uri": "https://localhost:8080/"
        },
        "id": "BjRTMysvpt2o",
        "outputId": "c7bce429-c905-4086-cfe8-61b3dafbb06a"
      },
      "outputs": [
        {
          "output_type": "execute_result",
          "data": {
            "text/plain": [
              "[[25, 16],\n",
              " [25, 16, 12],\n",
              " [25, 16, 12, 20],\n",
              " [25, 16, 12, 20, 2],\n",
              " [25, 16, 12, 20, 2, 1],\n",
              " [14, 5],\n",
              " [14, 5, 15],\n",
              " [14, 5, 15, 9],\n",
              " [14, 5, 15, 9, 5],\n",
              " [14, 5, 15, 9, 5, 4]]"
            ]
          },
          "metadata": {},
          "execution_count": 14
        }
      ],
      "source": [
        "sequences[:10]"
      ]
    },
    {
      "cell_type": "code",
      "execution_count": 15,
      "metadata": {
        "colab": {
          "base_uri": "https://localhost:8080/"
        },
        "id": "SR68pu2tpt2q",
        "outputId": "533732dd-acf5-4384-8230-f3d8c4430055"
      },
      "outputs": [
        {
          "output_type": "stream",
          "name": "stdout",
          "text": [
            "33\n"
          ]
        }
      ],
      "source": [
        "max_len = max([len(x) for x in sequences])\n",
        "print(max_len)"
      ]
    },
    {
      "cell_type": "code",
      "execution_count": 16,
      "metadata": {
        "colab": {
          "base_uri": "https://localhost:8080/"
        },
        "id": "h_1BtWO7pt2r",
        "outputId": "a808d94d-4103-4692-884d-3ea3eb17de27"
      },
      "outputs": [
        {
          "output_type": "stream",
          "name": "stdout",
          "text": [
            "[ 0  0  0  0  0  0  0  0  0  0  0  0  0  0  0  0  0  0  0  0  0  0  0  0\n",
            "  0  0  0  0  0  0  0 25 16]\n"
          ]
        }
      ],
      "source": [
        "padded_sequences = tf.keras.preprocessing.sequence.pad_sequences(\n",
        "    sequences, padding='pre',\n",
        "    maxlen=max_len\n",
        ")\n",
        "\n",
        "print(padded_sequences[0])"
      ]
    },
    {
      "cell_type": "code",
      "execution_count": 17,
      "metadata": {
        "colab": {
          "base_uri": "https://localhost:8080/"
        },
        "id": "sPlrLRpSpt2t",
        "outputId": "a28b28b9-828a-434c-87bf-bac32866de27"
      },
      "outputs": [
        {
          "output_type": "execute_result",
          "data": {
            "text/plain": [
              "(88279, 33)"
            ]
          },
          "metadata": {},
          "execution_count": 17
        }
      ],
      "source": [
        "padded_sequences.shape"
      ]
    },
    {
      "cell_type": "markdown",
      "metadata": {
        "id": "4WPypqx8RfRu"
      },
      "source": [
        "## Task 5: Creating Training and Validation Sets\n",
        "\n",
        "1. Creating training and validation sets"
      ]
    },
    {
      "cell_type": "code",
      "execution_count": 18,
      "metadata": {
        "colab": {
          "base_uri": "https://localhost:8080/"
        },
        "id": "BE4BIeSnpt2v",
        "outputId": "ec87b7c0-4367-42ca-f795-615d044d35d6"
      },
      "outputs": [
        {
          "output_type": "stream",
          "name": "stdout",
          "text": [
            "(88279, 32) (88279,)\n"
          ]
        }
      ],
      "source": [
        "x, y = padded_sequences[:, :-1], padded_sequences[:, -1]\n",
        "print(x.shape, y.shape)"
      ]
    },
    {
      "cell_type": "code",
      "execution_count": 19,
      "metadata": {
        "colab": {
          "base_uri": "https://localhost:8080/"
        },
        "id": "jWKfJNVXRfRu",
        "outputId": "8623da18-9197-4f44-ef2d-96dc6560adc6"
      },
      "outputs": [
        {
          "output_type": "stream",
          "name": "stdout",
          "text": [
            "(66209, 32) (66209,)\n",
            "(22070, 32) (22070,)\n"
          ]
        }
      ],
      "source": [
        "from sklearn.model_selection import train_test_split\n",
        "\n",
        "x_train, x_test, y_train, y_test = train_test_split(x, y)\n",
        "\n",
        "print(x_train.shape, y_train.shape)\n",
        "print(x_test.shape, y_test.shape)"
      ]
    },
    {
      "cell_type": "code",
      "execution_count": 20,
      "metadata": {
        "colab": {
          "base_uri": "https://localhost:8080/"
        },
        "id": "cgqRZtqnpt2x",
        "outputId": "98114946-6447-4344-c408-bac2dc839a8b"
      },
      "outputs": [
        {
          "output_type": "stream",
          "name": "stdout",
          "text": [
            "29\n"
          ]
        }
      ],
      "source": [
        "num_chars = len(char_to_index.keys()) + 1\n",
        "print(num_chars)"
      ]
    },
    {
      "cell_type": "markdown",
      "metadata": {
        "id": "UsM2fs3_RfRu"
      },
      "source": [
        "## Task 6: Creating the Model"
      ]
    },
    {
      "cell_type": "code",
      "execution_count": 21,
      "metadata": {
        "colab": {
          "base_uri": "https://localhost:8080/"
        },
        "id": "2dPlCmTYRfRu",
        "outputId": "5cd15f28-ce9d-4696-888d-51edf7ad412e"
      },
      "outputs": [
        {
          "output_type": "stream",
          "name": "stdout",
          "text": [
            "Model: \"sequential\"\n",
            "_________________________________________________________________\n",
            " Layer (type)                Output Shape              Param #   \n",
            "=================================================================\n",
            " embedding (Embedding)       (None, 32, 8)             232       \n",
            "                                                                 \n",
            " conv1d (Conv1D)             (None, 32, 64)            2624      \n",
            "                                                                 \n",
            " max_pooling1d (MaxPooling1D  (None, 16, 64)           0         \n",
            " )                                                               \n",
            "                                                                 \n",
            " lstm (LSTM)                 (None, 32)                12416     \n",
            "                                                                 \n",
            " dense (Dense)               (None, 29)                957       \n",
            "                                                                 \n",
            "=================================================================\n",
            "Total params: 16,229\n",
            "Trainable params: 16,229\n",
            "Non-trainable params: 0\n",
            "_________________________________________________________________\n"
          ]
        }
      ],
      "source": [
        "from tensorflow.keras.models import Sequential\n",
        "from tensorflow.keras.layers import Embedding, Conv1D, MaxPool1D, LSTM\n",
        "from tensorflow.keras.layers import Bidirectional, Dense\n",
        "\n",
        "model = Sequential([\n",
        "                    Embedding(num_chars, 8, input_length=max_len-1),\n",
        "                    Conv1D(64, 5, strides=1, activation='tanh', padding='causal'),\n",
        "                    MaxPool1D(2),\n",
        "                    LSTM(32),\n",
        "                    Dense(num_chars, activation='softmax')\n",
        "])\n",
        "\n",
        "model.compile(\n",
        "    loss='sparse_categorical_crossentropy',\n",
        "    optimizer='adam',\n",
        "    metrics=['accuracy']\n",
        ")\n",
        "\n",
        "model.summary()"
      ]
    },
    {
      "cell_type": "markdown",
      "metadata": {
        "id": "du_WBvUHRfRu"
      },
      "source": [
        "## Task 7: Training the Model"
      ]
    },
    {
      "cell_type": "code",
      "execution_count": 22,
      "metadata": {
        "colab": {
          "base_uri": "https://localhost:8080/"
        },
        "id": "j0Ssl4qupt22",
        "outputId": "afacbe85-3b4b-4814-9049-18bb1ec13352"
      },
      "outputs": [
        {
          "output_type": "stream",
          "name": "stdout",
          "text": [
            "Epoch 1/50\n",
            "2070/2070 - 37s - loss: 2.7443 - accuracy: 0.1851 - val_loss: 2.5661 - val_accuracy: 0.2302 - 37s/epoch - 18ms/step\n",
            "Epoch 2/50\n",
            "2070/2070 - 17s - loss: 2.5275 - accuracy: 0.2385 - val_loss: 2.4674 - val_accuracy: 0.2611 - 17s/epoch - 8ms/step\n",
            "Epoch 3/50\n",
            "2070/2070 - 17s - loss: 2.4512 - accuracy: 0.2615 - val_loss: 2.4227 - val_accuracy: 0.2704 - 17s/epoch - 8ms/step\n",
            "Epoch 4/50\n",
            "2070/2070 - 17s - loss: 2.4056 - accuracy: 0.2735 - val_loss: 2.3852 - val_accuracy: 0.2849 - 17s/epoch - 8ms/step\n",
            "Epoch 5/50\n",
            "2070/2070 - 17s - loss: 2.3696 - accuracy: 0.2850 - val_loss: 2.3573 - val_accuracy: 0.2942 - 17s/epoch - 8ms/step\n",
            "Epoch 6/50\n",
            "2070/2070 - 17s - loss: 2.3394 - accuracy: 0.2945 - val_loss: 2.3440 - val_accuracy: 0.2953 - 17s/epoch - 8ms/step\n",
            "Epoch 7/50\n",
            "2070/2070 - 17s - loss: 2.3126 - accuracy: 0.3023 - val_loss: 2.3180 - val_accuracy: 0.3030 - 17s/epoch - 8ms/step\n",
            "Epoch 8/50\n",
            "2070/2070 - 16s - loss: 2.2884 - accuracy: 0.3086 - val_loss: 2.3011 - val_accuracy: 0.3110 - 16s/epoch - 8ms/step\n",
            "Epoch 9/50\n",
            "2070/2070 - 17s - loss: 2.2656 - accuracy: 0.3163 - val_loss: 2.2912 - val_accuracy: 0.3100 - 17s/epoch - 8ms/step\n",
            "Epoch 10/50\n",
            "2070/2070 - 16s - loss: 2.2455 - accuracy: 0.3224 - val_loss: 2.2708 - val_accuracy: 0.3187 - 16s/epoch - 8ms/step\n",
            "Epoch 11/50\n",
            "2070/2070 - 17s - loss: 2.2246 - accuracy: 0.3287 - val_loss: 2.2676 - val_accuracy: 0.3188 - 17s/epoch - 8ms/step\n",
            "Epoch 12/50\n",
            "2070/2070 - 20s - loss: 2.2063 - accuracy: 0.3347 - val_loss: 2.2569 - val_accuracy: 0.3239 - 20s/epoch - 9ms/step\n",
            "Epoch 13/50\n",
            "2070/2070 - 17s - loss: 2.1901 - accuracy: 0.3402 - val_loss: 2.2457 - val_accuracy: 0.3282 - 17s/epoch - 8ms/step\n",
            "Epoch 14/50\n",
            "2070/2070 - 16s - loss: 2.1745 - accuracy: 0.3432 - val_loss: 2.2373 - val_accuracy: 0.3286 - 16s/epoch - 8ms/step\n",
            "Epoch 15/50\n",
            "2070/2070 - 17s - loss: 2.1599 - accuracy: 0.3497 - val_loss: 2.2320 - val_accuracy: 0.3326 - 17s/epoch - 8ms/step\n",
            "Epoch 16/50\n",
            "2070/2070 - 17s - loss: 2.1461 - accuracy: 0.3536 - val_loss: 2.2224 - val_accuracy: 0.3372 - 17s/epoch - 8ms/step\n",
            "Epoch 17/50\n",
            "2070/2070 - 17s - loss: 2.1329 - accuracy: 0.3586 - val_loss: 2.2166 - val_accuracy: 0.3402 - 17s/epoch - 8ms/step\n",
            "Epoch 18/50\n",
            "2070/2070 - 17s - loss: 2.1209 - accuracy: 0.3621 - val_loss: 2.2111 - val_accuracy: 0.3446 - 17s/epoch - 8ms/step\n",
            "Epoch 19/50\n",
            "2070/2070 - 17s - loss: 2.1091 - accuracy: 0.3675 - val_loss: 2.2109 - val_accuracy: 0.3472 - 17s/epoch - 8ms/step\n",
            "Epoch 20/50\n",
            "2070/2070 - 17s - loss: 2.0996 - accuracy: 0.3698 - val_loss: 2.2067 - val_accuracy: 0.3481 - 17s/epoch - 8ms/step\n",
            "Epoch 21/50\n",
            "2070/2070 - 17s - loss: 2.0891 - accuracy: 0.3734 - val_loss: 2.2024 - val_accuracy: 0.3507 - 17s/epoch - 8ms/step\n",
            "Epoch 22/50\n",
            "2070/2070 - 17s - loss: 2.0794 - accuracy: 0.3767 - val_loss: 2.2000 - val_accuracy: 0.3527 - 17s/epoch - 8ms/step\n",
            "Epoch 23/50\n",
            "2070/2070 - 17s - loss: 2.0708 - accuracy: 0.3776 - val_loss: 2.1993 - val_accuracy: 0.3479 - 17s/epoch - 8ms/step\n",
            "Epoch 24/50\n",
            "2070/2070 - 17s - loss: 2.0625 - accuracy: 0.3813 - val_loss: 2.1955 - val_accuracy: 0.3524 - 17s/epoch - 8ms/step\n",
            "Epoch 25/50\n",
            "2070/2070 - 17s - loss: 2.0543 - accuracy: 0.3838 - val_loss: 2.1943 - val_accuracy: 0.3561 - 17s/epoch - 8ms/step\n",
            "Epoch 26/50\n",
            "2070/2070 - 17s - loss: 2.0465 - accuracy: 0.3864 - val_loss: 2.1927 - val_accuracy: 0.3570 - 17s/epoch - 8ms/step\n",
            "Epoch 27/50\n",
            "2070/2070 - 17s - loss: 2.0398 - accuracy: 0.3892 - val_loss: 2.1907 - val_accuracy: 0.3554 - 17s/epoch - 8ms/step\n",
            "Epoch 28/50\n",
            "2070/2070 - 17s - loss: 2.0326 - accuracy: 0.3920 - val_loss: 2.1891 - val_accuracy: 0.3565 - 17s/epoch - 8ms/step\n",
            "Epoch 29/50\n",
            "2070/2070 - 17s - loss: 2.0258 - accuracy: 0.3934 - val_loss: 2.1856 - val_accuracy: 0.3609 - 17s/epoch - 8ms/step\n",
            "Epoch 30/50\n",
            "2070/2070 - 17s - loss: 2.0197 - accuracy: 0.3949 - val_loss: 2.1855 - val_accuracy: 0.3629 - 17s/epoch - 8ms/step\n",
            "Epoch 31/50\n",
            "2070/2070 - 17s - loss: 2.0121 - accuracy: 0.3979 - val_loss: 2.1926 - val_accuracy: 0.3636 - 17s/epoch - 8ms/step\n",
            "Epoch 32/50\n",
            "2070/2070 - 17s - loss: 2.0069 - accuracy: 0.3996 - val_loss: 2.1867 - val_accuracy: 0.3644 - 17s/epoch - 8ms/step\n",
            "Epoch 33/50\n",
            "2070/2070 - 17s - loss: 2.0014 - accuracy: 0.4018 - val_loss: 2.1871 - val_accuracy: 0.3645 - 17s/epoch - 8ms/step\n",
            "Epoch 34/50\n",
            "2070/2070 - 17s - loss: 1.9956 - accuracy: 0.4017 - val_loss: 2.1842 - val_accuracy: 0.3662 - 17s/epoch - 8ms/step\n",
            "Epoch 35/50\n",
            "2070/2070 - 17s - loss: 1.9905 - accuracy: 0.4049 - val_loss: 2.1829 - val_accuracy: 0.3655 - 17s/epoch - 8ms/step\n",
            "Epoch 36/50\n",
            "2070/2070 - 17s - loss: 1.9844 - accuracy: 0.4063 - val_loss: 2.1849 - val_accuracy: 0.3655 - 17s/epoch - 8ms/step\n",
            "Epoch 37/50\n",
            "2070/2070 - 17s - loss: 1.9799 - accuracy: 0.4061 - val_loss: 2.1841 - val_accuracy: 0.3659 - 17s/epoch - 8ms/step\n"
          ]
        }
      ],
      "source": [
        "h = model.fit(\n",
        "    x_train, y_train,\n",
        "    validation_data=(x_test, y_test),\n",
        "    epochs=50, verbose=2,\n",
        "    callbacks=[\n",
        "               tf.keras.callbacks.EarlyStopping(monitor='val_accuracy', patience=3)\n",
        "    ]\n",
        ")"
      ]
    },
    {
      "cell_type": "code",
      "execution_count": 23,
      "metadata": {
        "colab": {
          "base_uri": "https://localhost:8080/",
          "height": 265
        },
        "id": "AkkG3lEOm4OS",
        "outputId": "72ff2da3-9b25-45d3-edef-9f31e5adbc3c"
      },
      "outputs": [
        {
          "output_type": "display_data",
          "data": {
            "image/png": "[encoded data removed]",
            "text/plain": [
              "<Figure size 432x288 with 1 Axes>"
            ]
          },
          "metadata": {
            "needs_background": "light"
          }
        }
      ],
      "source": [
        "from matplotlib import pyplot as plt\n",
        "\n",
        "epochs_ran = len(h.history['loss'])\n",
        "\n",
        "plt.plot(range(0, epochs_ran), h.history['val_accuracy'], label='Validation')\n",
        "plt.plot(range(0, epochs_ran), h.history['accuracy'], label='Training')\n",
        "plt.legend()\n",
        "plt.show()"
      ]
    },
    {
      "cell_type": "markdown",
      "metadata": {
        "id": "j74nkW5xRfRu"
      },
      "source": [
        "## Task 8: Generate Names!"
      ]
    },
    {
      "cell_type": "code",
      "execution_count": 24,
      "metadata": {
        "id": "9f50aTRcpt24"
      },
      "outputs": [],
      "source": [
        "def generate_names(seed):\n",
        "  for i in range(0, 40):\n",
        "    seq = name_to_seq(seed)\n",
        "    padded = tf.keras.preprocessing.sequence.pad_sequences([seq], padding='pre',\n",
        "                                                           maxlen=max_len-1,\n",
        "                                                           truncating='pre')\n",
        "    pred = model.predict(padded)[0]\n",
        "    pred_char = index_to_char[tf.argmax(pred).numpy()]\n",
        "    seed += pred_char\n",
        "\n",
        "    if pred_char == '\\t':\n",
        "      break\n",
        "  print(seed)"
      ]
    },
    {
      "cell_type": "code",
      "execution_count": 25,
      "metadata": {
        "colab": {
          "base_uri": "https://localhost:8080/"
        },
        "id": "faQ0FInlpt26",
        "outputId": "a7dfae5a-a169-4472-8b6e-e0f46a77476b"
      },
      "outputs": [
        {
          "output_type": "stream",
          "name": "stdout",
          "text": [
            "xing gorl\t\n"
          ]
        }
      ],
      "source": [
        "generate_names('x')"
      ]
    },
    {
      "cell_type": "code",
      "execution_count": 25,
      "metadata": {
        "id": "dD7DcpHiopOv"
      },
      "outputs": [],
      "source": [
        ""
      ]
    }
  ],
  "metadata": {
    "accelerator": "GPU",
    "colab": {
      "collapsed_sections": [],
      "name": "Superhero - Colab Notebook - Completed.ipynb",
      "provenance": []
    },
    "kernelspec": {
      "display_name": "Python 3",
      "language": "python",
      "name": "python3"
    },
    "language_info": {
      "codemirror_mode": {
        "name": "ipython",
        "version": 3
      },
      "file_extension": ".py",
      "mimetype": "text/x-python",
      "name": "python",
      "nbconvert_exporter": "python",
      "pygments_lexer": "ipython3",
      "version": "3.8.5"
    }
  },
  "nbformat": 4,
  "nbformat_minor": 0
}